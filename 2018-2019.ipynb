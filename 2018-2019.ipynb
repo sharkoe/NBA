{
 "cells": [
  {
   "cell_type": "code",
   "execution_count": 1,
   "id": "religious-builder",
   "metadata": {},
   "outputs": [
    {
     "ename": "ModuleNotFoundError",
     "evalue": "No module named 'bodo'",
     "output_type": "error",
     "traceback": [
      "\u001b[1;31m---------------------------------------------------------------------------\u001b[0m",
      "\u001b[1;31mModuleNotFoundError\u001b[0m                       Traceback (most recent call last)",
      "\u001b[1;32m<ipython-input-1-a4fd59ac02c5>\u001b[0m in \u001b[0;36m<module>\u001b[1;34m\u001b[0m\n\u001b[0;32m      5\u001b[0m \u001b[1;32mimport\u001b[0m \u001b[0mnba_api\u001b[0m\u001b[1;33m\u001b[0m\u001b[1;33m\u001b[0m\u001b[0m\n\u001b[0;32m      6\u001b[0m \u001b[1;32mimport\u001b[0m \u001b[0mseaborn\u001b[0m \u001b[1;32mas\u001b[0m \u001b[0msns\u001b[0m\u001b[1;33m\u001b[0m\u001b[1;33m\u001b[0m\u001b[0m\n\u001b[1;32m----> 7\u001b[1;33m \u001b[1;32mimport\u001b[0m \u001b[0mbodo\u001b[0m\u001b[1;33m\u001b[0m\u001b[1;33m\u001b[0m\u001b[0m\n\u001b[0m\u001b[0;32m      8\u001b[0m \u001b[0mpd\u001b[0m\u001b[1;33m.\u001b[0m\u001b[0mset_option\u001b[0m\u001b[1;33m(\u001b[0m\u001b[1;34m'display.max_columns'\u001b[0m\u001b[1;33m,\u001b[0m \u001b[1;32mNone\u001b[0m\u001b[1;33m)\u001b[0m\u001b[1;33m\u001b[0m\u001b[1;33m\u001b[0m\u001b[0m\n",
      "\u001b[1;31mModuleNotFoundError\u001b[0m: No module named 'bodo'"
     ]
    }
   ],
   "source": [
    "import numpy as np\n",
    "import pandas as pd\n",
    "import matplotlib.pyplot as plt\n",
    "import requests\n",
    "import nba_api\n",
    "import seaborn as sns\n",
    "import bodo\n",
    "pd.set_option('display.max_columns', None)"
   ]
  },
  {
   "cell_type": "code",
   "execution_count": null,
   "id": "mediterranean-textbook",
   "metadata": {},
   "outputs": [],
   "source": [
    "pip install bodo"
   ]
  },
  {
   "cell_type": "code",
   "execution_count": null,
   "id": "large-setting",
   "metadata": {},
   "outputs": [],
   "source": []
  },
  {
   "cell_type": "code",
   "execution_count": null,
   "id": "known-cocktail",
   "metadata": {},
   "outputs": [],
   "source": [
    "raw = pd.read_csv('2018-19/raw_scores.txt')"
   ]
  },
  {
   "cell_type": "code",
   "execution_count": null,
   "id": "secondary-stylus",
   "metadata": {},
   "outputs": [],
   "source": [
    "raw.info()"
   ]
  },
  {
   "cell_type": "code",
   "execution_count": null,
   "id": "attractive-shipping",
   "metadata": {},
   "outputs": [],
   "source": [
    "vegas = pd.read_csv('2018-19/vegas.txt')"
   ]
  },
  {
   "cell_type": "code",
   "execution_count": null,
   "id": "coated-developer",
   "metadata": {},
   "outputs": [],
   "source": [
    "print(vegas.shape)\n",
    "print(raw.shape)"
   ]
  },
  {
   "cell_type": "code",
   "execution_count": null,
   "id": "upper-domain",
   "metadata": {
    "jupyter": {
     "source_hidden": true
    }
   },
   "outputs": [],
   "source": [
    "def new_id(game, city):\n",
    "    return f'{game}_{city}'"
   ]
  },
  {
   "cell_type": "code",
   "execution_count": null,
   "id": "given-financing",
   "metadata": {},
   "outputs": [],
   "source": [
    "raw['GAME_ID'] = raw['GAME_ID'].astype(int)"
   ]
  },
  {
   "cell_type": "code",
   "execution_count": null,
   "id": "collect-arrival",
   "metadata": {},
   "outputs": [],
   "source": [
    "raw['blahblah'] = raw['GAME_ID'].astype(str)+'_'+raw['TEAM_CITY_NAME']"
   ]
  },
  {
   "cell_type": "code",
   "execution_count": null,
   "id": "aging-portuguese",
   "metadata": {},
   "outputs": [],
   "source": [
    "raw.head()"
   ]
  },
  {
   "cell_type": "code",
   "execution_count": null,
   "id": "subsequent-microphone",
   "metadata": {},
   "outputs": [],
   "source": [
    "vegas['blahblah'] = vegas['GameId'].astype(str)+'_'+vegas['Team']"
   ]
  },
  {
   "cell_type": "code",
   "execution_count": null,
   "id": "valid-universe",
   "metadata": {},
   "outputs": [],
   "source": [
    "vegas.head()"
   ]
  },
  {
   "cell_type": "code",
   "execution_count": null,
   "id": "sweet-terrain",
   "metadata": {},
   "outputs": [],
   "source": [
    "full_df = pd.merge(raw, vegas, how='left', on='blahblah')"
   ]
  },
  {
   "cell_type": "code",
   "execution_count": null,
   "id": "precise-latin",
   "metadata": {},
   "outputs": [],
   "source": [
    "full_df.hist(figsize=(100,100))\n",
    "plt.show()"
   ]
  }
 ],
 "metadata": {
  "kernelspec": {
   "display_name": "Python 3",
   "language": "python",
   "name": "python3"
  },
  "language_info": {
   "codemirror_mode": {
    "name": "ipython",
    "version": 3
   },
   "file_extension": ".py",
   "mimetype": "text/x-python",
   "name": "python",
   "nbconvert_exporter": "python",
   "pygments_lexer": "ipython3",
   "version": "3.8.1"
  }
 },
 "nbformat": 4,
 "nbformat_minor": 5
}
