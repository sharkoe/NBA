{
 "cells": [
  {
   "cell_type": "code",
   "execution_count": 13,
   "id": "38b83f53-b756-40fc-9c9a-935b13cba170",
   "metadata": {},
   "outputs": [
    {
     "name": "stdout",
     "output_type": "stream",
     "text": [
      "Starting scrapper... \n",
      "\n",
      "URL pull complete. \n",
      "\n",
      "Data Table complete. \n",
      "\n"
     ]
    },
    {
     "name": "stdin",
     "output_type": "stream",
     "text": [
      "Do you want to save table to an excel worksheet? (Y/N) y\n",
      "Do you want to use your current directory C:\\Users\\Livng\\Documents\\NBA\\TeamRankingsWebScraper-master? (Y/N)  y\n",
      "Please enter a file name (with no extension):  defrr\n"
     ]
    },
    {
     "name": "stdout",
     "output_type": "stream",
     "text": [
      "File successfully saved at C:\\Users\\Livng\\Documents\\NBA\\TeamRankingsWebScraper-master.\n"
     ]
    }
   ],
   "source": [
    "%run main.py https://www.teamrankings.com/nba/stat/defensive-rebounding-pct"
   ]
  }
 ],
 "metadata": {
  "kernelspec": {
   "display_name": "Python 3",
   "language": "python",
   "name": "python3"
  },
  "language_info": {
   "codemirror_mode": {
    "name": "ipython",
    "version": 3
   },
   "file_extension": ".py",
   "mimetype": "text/x-python",
   "name": "python",
   "nbconvert_exporter": "python",
   "pygments_lexer": "ipython3",
   "version": "3.7.10"
  }
 },
 "nbformat": 4,
 "nbformat_minor": 5
}
