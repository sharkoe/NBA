{
 "cells": [
  {
   "cell_type": "code",
   "execution_count": 43,
   "id": "998e5c83-1eb8-4303-b4da-cfd5705506ea",
   "metadata": {},
   "outputs": [],
   "source": [
    "#a function for sports betting that can quickly calculate payout, implied odds, and EV from an input of wager amount and American odds.\n",
    "\n",
    "def odds_calculator(wager, odds):\n",
    "    \n",
    "    # calculate potential profit\n",
    "    def profit(wager, odds):  \n",
    "        if odds < 0:\n",
    "            profit = (-100/odds) * wager\n",
    "        else:\n",
    "            profit = (odds/100) * wager\n",
    "        return profit\n",
    "    \n",
    "    # calculate payout\n",
    "    def payout(wager, profit):\n",
    "        payout = wager + profit(wager, odds)\n",
    "        return round(payout, 2)\n",
    "    \n",
    "    # calcute implied odds\n",
    "    def implied_odds(wager, payout):\n",
    "        implied_odds = wager / payout(wager, profit)\n",
    "        return round(implied_odds, 2) *100\n",
    "\n",
    "    \n",
    "    # return necessary information\n",
    "    return f'A bet of ${wager} will return ${payout(wager, profit)}, and the implied odds are {implied_odds(wager, payout)}.'"
   ]
  },
  {
   "cell_type": "code",
   "execution_count": 49,
   "id": "87e83dc1-218d-4f48-891c-6709cd6a5dcb",
   "metadata": {},
   "outputs": [
    {
     "data": {
      "text/plain": [
       "'A bet of $100 will return $210.0, and the implied odds are 48.0.'"
      ]
     },
     "execution_count": 49,
     "metadata": {},
     "output_type": "execute_result"
    }
   ],
   "source": [
    "odds_calculator(100, 110)"
   ]
  }
 ],
 "metadata": {
  "kernelspec": {
   "display_name": "Python 3",
   "language": "python",
   "name": "python3"
  },
  "language_info": {
   "codemirror_mode": {
    "name": "ipython",
    "version": 3
   },
   "file_extension": ".py",
   "mimetype": "text/x-python",
   "name": "python",
   "nbconvert_exporter": "python",
   "pygments_lexer": "ipython3",
   "version": "3.7.10"
  }
 },
 "nbformat": 4,
 "nbformat_minor": 5
}
