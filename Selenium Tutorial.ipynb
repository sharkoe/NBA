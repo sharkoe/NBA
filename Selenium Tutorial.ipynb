{
 "cells": [
  {
   "cell_type": "code",
   "execution_count": 7,
   "id": "3551a2a3-5dfe-485b-bfb3-524791fea401",
   "metadata": {},
   "outputs": [],
   "source": [
    "from selenium import webdriver\n",
    "from selenium.webdriver.support.ui import Select\n",
    "from bs4 import BeautifulSoup\n",
    "import pandas as pd"
   ]
  },
  {
   "cell_type": "code",
   "execution_count": 48,
   "id": "7ce901bf-bd90-45c4-8564-d6e9944c9583",
   "metadata": {},
   "outputs": [],
   "source": [
    "browser = webdriver.Chrome()\n",
    "browser.get('http://seleniumhq.org')"
   ]
  },
  {
   "cell_type": "code",
   "execution_count": 20,
   "id": "91bffd0b-ede1-4d83-a9fd-17596013a2aa",
   "metadata": {},
   "outputs": [],
   "source": [
    "from selenium.webdriver.common.keys import Keys"
   ]
  },
  {
   "cell_type": "code",
   "execution_count": 47,
   "id": "8e884536-36d6-4457-be86-81649ee9c10d",
   "metadata": {},
   "outputs": [],
   "source": [
    "browser = webdriver.Chrome()\n",
    "\n",
    "browser.get('http://yahoo.com')\n",
    "assert 'Yahoo' in browser.title\n",
    "\n",
    "elem = browser.find_element_by_name('p')\n",
    "elem.send_keys('seleniumhq' + Keys.RETURN)\n",
    "\n",
    "browser.quit()"
   ]
  },
  {
   "cell_type": "code",
   "execution_count": 44,
   "id": "c47b4387-c62e-45b3-89c1-65a72acb836e",
   "metadata": {},
   "outputs": [],
   "source": [
    "browser = webdriver.Chrome()\n",
    "url = r'https://www.nba.com/stats/players/advanced/?sort=GP&dir=-1&Season=2020-21&SeasonType=Regular%20Season'\n",
    "browser.get(url)\n",
    "select = Select(browser.find_element_by_xpath(r'/html/body/main/div/div/div[2]/div/div/nba-stat-table/div[1]/div/div/select'))\n",
    "select.select_by_index(0)\n",
    "\n",
    "src = browser.page_source\n",
    "parser = BeautifulSoup(src, 'lxml')\n",
    "table = parser.find('div', attrs = {'class': 'nba-stat-table__overflow'})\n",
    "headers = table.findAll('th')\n",
    "header_list = [h.text.strip() for h in headers[1:]]\n",
    "header_list1 = [a for a in header_list if not 'RANK' in a]"
   ]
  },
  {
   "cell_type": "code",
   "execution_count": 55,
   "id": "65598725-cbb5-4326-9e55-e068187599d6",
   "metadata": {
    "tags": []
   },
   "outputs": [],
   "source": [
    "header_list1 = header_list1[:-5]"
   ]
  },
  {
   "cell_type": "code",
   "execution_count": 49,
   "id": "e951fc37-4391-48e4-89a1-dbf1241b59c3",
   "metadata": {},
   "outputs": [],
   "source": [
    "rows = table.findAll('tr')[1:]"
   ]
  },
  {
   "cell_type": "code",
   "execution_count": 51,
   "id": "64bb5ba9-a54f-41ce-90b8-08630a49e6c5",
   "metadata": {
    "tags": []
   },
   "outputs": [],
   "source": [
    "player_stats = [[td.getText().strip() for td in rows[i].findAll('td')[1:]] for i in range(len(rows))]"
   ]
  },
  {
   "cell_type": "code",
   "execution_count": 56,
   "id": "ab9fa40d-ea4d-4b3e-a80c-8dee746bae29",
   "metadata": {},
   "outputs": [],
   "source": [
    "stats = pd.DataFrame(player_stats, columns=header_list1)"
   ]
  },
  {
   "cell_type": "code",
   "execution_count": 59,
   "id": "80a74116-e99c-421d-9ff1-6cfacf8cf3e4",
   "metadata": {},
   "outputs": [
    {
     "name": "stdout",
     "output_type": "stream",
     "text": [
      "<class 'pandas.core.frame.DataFrame'>\n",
      "RangeIndex: 540 entries, 0 to 539\n",
      "Data columns (total 23 columns):\n",
      " #   Column     Non-Null Count  Dtype \n",
      "---  ------     --------------  ----- \n",
      " 0   PLAYER     540 non-null    object\n",
      " 1   TEAM       540 non-null    object\n",
      " 2   AGE        540 non-null    object\n",
      " 3   GP         540 non-null    object\n",
      " 4   W          540 non-null    object\n",
      " 5   L          540 non-null    object\n",
      " 6   MIN        540 non-null    object\n",
      " 7   OFFRTG     540 non-null    object\n",
      " 8   DEFRTG     540 non-null    object\n",
      " 9   NETRTG     540 non-null    object\n",
      " 10  AST%       540 non-null    object\n",
      " 11  AST/TO     540 non-null    object\n",
      " 12  AST Ratio  540 non-null    object\n",
      " 13  OREB%      540 non-null    object\n",
      " 14  DREB%      540 non-null    object\n",
      " 15  REB%       540 non-null    object\n",
      " 16  TO Ratio   540 non-null    object\n",
      " 17  eFG%       540 non-null    object\n",
      " 18  TS%        540 non-null    object\n",
      " 19  USG%       540 non-null    object\n",
      " 20  PACE       540 non-null    object\n",
      " 21  PIE        540 non-null    object\n",
      " 22  POSS       540 non-null    object\n",
      "dtypes: object(23)\n",
      "memory usage: 97.2+ KB\n"
     ]
    }
   ],
   "source": [
    "stats.info()"
   ]
  },
  {
   "cell_type": "code",
   "execution_count": 60,
   "id": "9f2145bc-89aa-4bf5-b217-ece8897c8abc",
   "metadata": {},
   "outputs": [
    {
     "data": {
      "text/html": [
       "<div>\n",
       "<style scoped>\n",
       "    .dataframe tbody tr th:only-of-type {\n",
       "        vertical-align: middle;\n",
       "    }\n",
       "\n",
       "    .dataframe tbody tr th {\n",
       "        vertical-align: top;\n",
       "    }\n",
       "\n",
       "    .dataframe thead th {\n",
       "        text-align: right;\n",
       "    }\n",
       "</style>\n",
       "<table border=\"1\" class=\"dataframe\">\n",
       "  <thead>\n",
       "    <tr style=\"text-align: right;\">\n",
       "      <th></th>\n",
       "      <th>PLAYER</th>\n",
       "      <th>TEAM</th>\n",
       "      <th>AGE</th>\n",
       "      <th>GP</th>\n",
       "      <th>W</th>\n",
       "      <th>L</th>\n",
       "      <th>MIN</th>\n",
       "      <th>OFFRTG</th>\n",
       "      <th>DEFRTG</th>\n",
       "      <th>NETRTG</th>\n",
       "      <th>...</th>\n",
       "      <th>OREB%</th>\n",
       "      <th>DREB%</th>\n",
       "      <th>REB%</th>\n",
       "      <th>TO Ratio</th>\n",
       "      <th>eFG%</th>\n",
       "      <th>TS%</th>\n",
       "      <th>USG%</th>\n",
       "      <th>PACE</th>\n",
       "      <th>PIE</th>\n",
       "      <th>POSS</th>\n",
       "    </tr>\n",
       "  </thead>\n",
       "  <tbody>\n",
       "    <tr>\n",
       "      <th>0</th>\n",
       "      <td>Anthony Edwards</td>\n",
       "      <td>MIN</td>\n",
       "      <td>19</td>\n",
       "      <td>72</td>\n",
       "      <td>23</td>\n",
       "      <td>49</td>\n",
       "      <td>32.1</td>\n",
       "      <td>110.6</td>\n",
       "      <td>115.6</td>\n",
       "      <td>-5.0</td>\n",
       "      <td>...</td>\n",
       "      <td>2.3</td>\n",
       "      <td>12.1</td>\n",
       "      <td>7.0</td>\n",
       "      <td>9.4</td>\n",
       "      <td>48.8</td>\n",
       "      <td>52.3</td>\n",
       "      <td>26.4</td>\n",
       "      <td>102.71</td>\n",
       "      <td>9.4</td>\n",
       "      <td>4,961</td>\n",
       "    </tr>\n",
       "    <tr>\n",
       "      <th>1</th>\n",
       "      <td>Bojan Bogdanovic</td>\n",
       "      <td>UTA</td>\n",
       "      <td>32</td>\n",
       "      <td>72</td>\n",
       "      <td>52</td>\n",
       "      <td>20</td>\n",
       "      <td>30.8</td>\n",
       "      <td>116.8</td>\n",
       "      <td>107.3</td>\n",
       "      <td>9.5</td>\n",
       "      <td>...</td>\n",
       "      <td>1.8</td>\n",
       "      <td>9.9</td>\n",
       "      <td>6.0</td>\n",
       "      <td>9.8</td>\n",
       "      <td>53.6</td>\n",
       "      <td>58.8</td>\n",
       "      <td>22.5</td>\n",
       "      <td>99.94</td>\n",
       "      <td>9.4</td>\n",
       "      <td>4,604</td>\n",
       "    </tr>\n",
       "    <tr>\n",
       "      <th>2</th>\n",
       "      <td>Duncan Robinson</td>\n",
       "      <td>MIA</td>\n",
       "      <td>27</td>\n",
       "      <td>72</td>\n",
       "      <td>40</td>\n",
       "      <td>32</td>\n",
       "      <td>31.4</td>\n",
       "      <td>110.6</td>\n",
       "      <td>108.3</td>\n",
       "      <td>2.3</td>\n",
       "      <td>...</td>\n",
       "      <td>0.3</td>\n",
       "      <td>10.9</td>\n",
       "      <td>5.7</td>\n",
       "      <td>8.5</td>\n",
       "      <td>61.4</td>\n",
       "      <td>62.8</td>\n",
       "      <td>16.2</td>\n",
       "      <td>97.55</td>\n",
       "      <td>7.5</td>\n",
       "      <td>4,602</td>\n",
       "    </tr>\n",
       "    <tr>\n",
       "      <th>3</th>\n",
       "      <td>Dwayne Bacon</td>\n",
       "      <td>ORL</td>\n",
       "      <td>25</td>\n",
       "      <td>72</td>\n",
       "      <td>21</td>\n",
       "      <td>51</td>\n",
       "      <td>25.7</td>\n",
       "      <td>101.3</td>\n",
       "      <td>112.8</td>\n",
       "      <td>-11.4</td>\n",
       "      <td>...</td>\n",
       "      <td>1.5</td>\n",
       "      <td>10.2</td>\n",
       "      <td>5.6</td>\n",
       "      <td>4.9</td>\n",
       "      <td>44.3</td>\n",
       "      <td>49.0</td>\n",
       "      <td>19.3</td>\n",
       "      <td>100.39</td>\n",
       "      <td>6.9</td>\n",
       "      <td>3,875</td>\n",
       "    </tr>\n",
       "    <tr>\n",
       "      <th>4</th>\n",
       "      <td>Enes Kanter</td>\n",
       "      <td>POR</td>\n",
       "      <td>29</td>\n",
       "      <td>72</td>\n",
       "      <td>42</td>\n",
       "      <td>30</td>\n",
       "      <td>24.4</td>\n",
       "      <td>119.7</td>\n",
       "      <td>114.8</td>\n",
       "      <td>4.9</td>\n",
       "      <td>...</td>\n",
       "      <td>14.8</td>\n",
       "      <td>28.1</td>\n",
       "      <td>21.3</td>\n",
       "      <td>9.8</td>\n",
       "      <td>60.5</td>\n",
       "      <td>63.6</td>\n",
       "      <td>16.9</td>\n",
       "      <td>98.79</td>\n",
       "      <td>14.1</td>\n",
       "      <td>3,607</td>\n",
       "    </tr>\n",
       "  </tbody>\n",
       "</table>\n",
       "<p>5 rows × 23 columns</p>\n",
       "</div>"
      ],
      "text/plain": [
       "             PLAYER TEAM AGE  GP   W   L   MIN OFFRTG DEFRTG NETRTG  ...  \\\n",
       "0   Anthony Edwards  MIN  19  72  23  49  32.1  110.6  115.6   -5.0  ...   \n",
       "1  Bojan Bogdanovic  UTA  32  72  52  20  30.8  116.8  107.3    9.5  ...   \n",
       "2   Duncan Robinson  MIA  27  72  40  32  31.4  110.6  108.3    2.3  ...   \n",
       "3      Dwayne Bacon  ORL  25  72  21  51  25.7  101.3  112.8  -11.4  ...   \n",
       "4       Enes Kanter  POR  29  72  42  30  24.4  119.7  114.8    4.9  ...   \n",
       "\n",
       "  OREB% DREB%  REB% TO Ratio  eFG%   TS%  USG%    PACE   PIE   POSS  \n",
       "0   2.3  12.1   7.0      9.4  48.8  52.3  26.4  102.71   9.4  4,961  \n",
       "1   1.8   9.9   6.0      9.8  53.6  58.8  22.5   99.94   9.4  4,604  \n",
       "2   0.3  10.9   5.7      8.5  61.4  62.8  16.2   97.55   7.5  4,602  \n",
       "3   1.5  10.2   5.6      4.9  44.3  49.0  19.3  100.39   6.9  3,875  \n",
       "4  14.8  28.1  21.3      9.8  60.5  63.6  16.9   98.79  14.1  3,607  \n",
       "\n",
       "[5 rows x 23 columns]"
      ]
     },
     "execution_count": 60,
     "metadata": {},
     "output_type": "execute_result"
    }
   ],
   "source": [
    "stats.head()"
   ]
  },
  {
   "cell_type": "code",
   "execution_count": null,
   "id": "d58609c8-ac9b-41bf-84b6-6c6182594097",
   "metadata": {},
   "outputs": [],
   "source": []
  },
  {
   "cell_type": "code",
   "execution_count": 58,
   "id": "1ae094d8-96f1-41a1-8ada-dfa8b1c786c5",
   "metadata": {},
   "outputs": [],
   "source": [
    "stats.to_csv('player_advanced_stats.csv')"
   ]
  }
 ],
 "metadata": {
  "kernelspec": {
   "display_name": "Python 3",
   "language": "python",
   "name": "python3"
  },
  "language_info": {
   "codemirror_mode": {
    "name": "ipython",
    "version": 3
   },
   "file_extension": ".py",
   "mimetype": "text/x-python",
   "name": "python",
   "nbconvert_exporter": "python",
   "pygments_lexer": "ipython3",
   "version": "3.7.10"
  }
 },
 "nbformat": 4,
 "nbformat_minor": 5
}
